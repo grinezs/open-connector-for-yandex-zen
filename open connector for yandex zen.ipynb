{
 "cells": [
  {
   "cell_type": "code",
   "execution_count": 1,
   "metadata": {},
   "outputs": [],
   "source": [
    "import pandas as pd\n",
    "import json\n",
    "import requests\n",
    "from datetime import datetime, timedelta"
   ]
  },
  {
   "cell_type": "code",
   "execution_count": 2,
   "metadata": {},
   "outputs": [
    {
     "name": "stdout",
     "output_type": "stream",
     "text": [
      "<Response [200]>\n"
     ]
    }
   ],
   "source": [
    "Cookie = {\n",
    "    # Session_id из кук, можно взять из консоли разработчика при входе в яндекс как на скрине https://i.ibb.co/g3X1jK7/Yandex-Zen-master-zip-Win-RAR.jpg\n",
    "    'Session_id' : 'https://i.ibb.co/g3X1jK7/Yandex-Zen-master-zip-Win-RAR.jpg'\n",
    "}\n",
    "\n",
    "# получение необходимых дат\n",
    "yesterday = (datetime.now() - timedelta(days=1)).strftime('%Y-%m-%d')\n",
    "today = datetime.now().strftime('%Y-%m-%d')\n",
    "\n",
    "#publisherId это id кабинета в zen, можно взять из урла как на скрине http://joxi.ru/DmBonJqi4GqPj2\n",
    "parameters = \\\n",
    "    'publisherId='+'http://joxi.ru/DmBonJqi4GqPj2'\\\n",
    "    +'&from='+yesterday\\\n",
    "    +'&to='+today\\\n",
    "    +'&filterType='+'by-event'\n",
    "\n",
    "url = 'https://zen.yandex.ru/editor-api/v2/flights/campaigns/statistics-xls?' + parameters\n",
    "\n",
    "r = requests.get(url, cookies=Cookie)\n",
    "print(r)"
   ]
  },
  {
   "cell_type": "code",
   "execution_count": 3,
   "metadata": {},
   "outputs": [
    {
     "data": {
      "text/html": [
       "<div>\n",
       "<style scoped>\n",
       "    .dataframe tbody tr th:only-of-type {\n",
       "        vertical-align: middle;\n",
       "    }\n",
       "\n",
       "    .dataframe tbody tr th {\n",
       "        vertical-align: top;\n",
       "    }\n",
       "\n",
       "    .dataframe thead th {\n",
       "        text-align: right;\n",
       "    }\n",
       "</style>\n",
       "<table border=\"1\" class=\"dataframe\">\n",
       "  <thead>\n",
       "    <tr style=\"text-align: right;\">\n",
       "      <th></th>\n",
       "      <th>date</th>\n",
       "      <th>impressions</th>\n",
       "      <th>clicks</th>\n",
       "      <th>cost_with_NDS</th>\n",
       "    </tr>\n",
       "  </thead>\n",
       "  <tbody>\n",
       "    <tr>\n",
       "      <th>0</th>\n",
       "      <td>01.04.2021</td>\n",
       "      <td>0</td>\n",
       "      <td>0</td>\n",
       "      <td>0</td>\n",
       "    </tr>\n",
       "    <tr>\n",
       "      <th>1</th>\n",
       "      <td>31.03.2021</td>\n",
       "      <td>304</td>\n",
       "      <td>10</td>\n",
       "      <td>0</td>\n",
       "    </tr>\n",
       "  </tbody>\n",
       "</table>\n",
       "</div>"
      ],
      "text/plain": [
       "         date  impressions  clicks  cost_with_NDS\n",
       "0  01.04.2021            0       0              0\n",
       "1  31.03.2021          304      10              0"
      ]
     },
     "execution_count": 3,
     "metadata": {},
     "output_type": "execute_result"
    }
   ],
   "source": [
    "df = pd.read_excel(r.content, 'Статистика\\xa0кампаний по дням', skiprows = 2 )[['Срез на дату', 'Показы в ленте', 'Клики из ленты', 'Расход,\\nруб. (без НДС)']].drop(index=0)\n",
    "df.columns = ['date','impressions','clicks','cost_with_NDS']\n",
    "\n",
    "df = df.groupby(['date'], as_index=False).agg({'impressions':'sum','clicks':'sum','cost_with_NDS':'sum'})\n",
    "\n",
    "#json.dumps(json.loads(df.to_json(orient=\"records\")))\n",
    "df"
   ]
  },
  {
   "cell_type": "code",
   "execution_count": null,
   "metadata": {},
   "outputs": [],
   "source": []
  }
 ],
 "metadata": {
  "kernelspec": {
   "display_name": "Python 3",
   "language": "python",
   "name": "python3"
  },
  "language_info": {
   "codemirror_mode": {
    "name": "ipython",
    "version": 3
   },
   "file_extension": ".py",
   "mimetype": "text/x-python",
   "name": "python",
   "nbconvert_exporter": "python",
   "pygments_lexer": "ipython3",
   "version": "3.8.5"
  }
 },
 "nbformat": 4,
 "nbformat_minor": 4
}
